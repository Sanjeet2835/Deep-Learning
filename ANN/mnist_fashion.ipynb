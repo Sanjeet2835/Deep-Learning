{
 "cells": [
  {
   "cell_type": "code",
   "execution_count": 137,
   "id": "968f3da5",
   "metadata": {},
   "outputs": [],
   "source": [
    "import torch\n",
    "import torch.nn as nn\n",
    "from torchvision import datasets, transforms\n",
    "import torch.optim as optim\n",
    "from torch.utils.data import DataLoader, random_split\n",
    "import random\n",
    "import numpy as np"
   ]
  },
  {
   "cell_type": "code",
   "execution_count": null,
   "id": "3e934e96",
   "metadata": {},
   "outputs": [],
   "source": [
    "def set_seed(seed=42):\n",
    "\n",
    "    torch.manual_seed(seed)\n",
    "    torch.cuda.manual_seed(seed)\n",
    "    torch.cuda.manual_seed_all(seed) \n",
    "    np.random.seed(seed)\n",
    "    random.seed(seed)\n",
    "\n",
    "    torch.backends.cudnn.deterministic = True\n",
    "    torch.backends.cudnn.benchmark = False\n",
    "\n",
    "set_seed(42)\n"
   ]
  },
  {
   "cell_type": "code",
   "execution_count": 139,
   "id": "0a6da06c",
   "metadata": {},
   "outputs": [
    {
     "name": "stdout",
     "output_type": "stream",
     "text": [
      "Using device cuda\n"
     ]
    }
   ],
   "source": [
    "device = torch.device('cuda' if torch.cuda.is_available else 'cpu')\n",
    "print(\"Using device\", device)"
   ]
  },
  {
   "cell_type": "code",
   "execution_count": 140,
   "id": "d43070be",
   "metadata": {},
   "outputs": [],
   "source": [
    "transform = transforms.Compose([transforms.ToTensor(), transforms.Normalize((0.5,),(0.5))])\n",
    "\n",
    "train_data_ = datasets.FashionMNIST(root='./data', train = True, download=True, transform=transform)\n",
    "test_data = datasets.FashionMNIST(root='./data', train = False, download=True, transform=transform)\n",
    "\n",
    "train_len = int(0.9*len(train_data_))\n",
    "val_len = len(train_data_)-train_len\n",
    "train_data, val_data = random_split(train_data_, (train_len, val_len))\n",
    "\n",
    "train_loader = DataLoader(train_data, batch_size=64, shuffle=True)\n",
    "val_loader = DataLoader(val_data, batch_size=64, shuffle=False)\n",
    "test_loader = DataLoader(test_data, batch_size=64, shuffle=False)"
   ]
  },
  {
   "cell_type": "code",
   "execution_count": null,
   "id": "0d110813",
   "metadata": {},
   "outputs": [],
   "source": [
    "class Fashion(nn.Module):\n",
    "    def __init__(self):\n",
    "        super().__init__()\n",
    "        self.model = nn.Sequential(\n",
    "            nn.Flatten(),\n",
    "            nn.Linear(28*28, 512),\n",
    "            nn.BatchNorm1d(512),\n",
    "            nn.ReLU(),\n",
    "\n",
    "            nn.Linear(512, 128),\n",
    "            nn.BatchNorm1d(128),\n",
    "            nn.ReLU(),\n",
    "\n",
    "            nn.Linear(128, 64),\n",
    "            nn.BatchNorm1d(64),\n",
    "            nn.ReLU(),\n",
    "            nn.Dropout(0.3),  \n",
    "            nn.Linear(64, 10),\n",
    "        )   \n",
    "\n",
    "    def forward(self, x):\n",
    "            return self.model(x)"
   ]
  },
  {
   "cell_type": "code",
   "execution_count": null,
   "id": "0ba3b5c8",
   "metadata": {},
   "outputs": [],
   "source": [
    "Fashion_ANN = Fashion().to(device)\n",
    "Loss = nn.CrossEntropyLoss()\n",
    "optimizer = optim.Adam(Fashion_ANN.parameters(), lr=1e-3)   \n",
    "scheduler = optim.lr_scheduler.ReduceLROnPlateau(\n",
    "    optimizer,      \n",
    "    mode='min',                      \n",
    "    patience=4,    \n",
    "    factor=0.5      \n",
    ")"
   ]
  },
  {
   "cell_type": "code",
   "execution_count": null,
   "id": "3af266ca",
   "metadata": {},
   "outputs": [
    {
     "name": "stdout",
     "output_type": "stream",
     "text": [
      "Epoch 1/30 | Train Loss: 0.5280 | Val Loss: 0.3833 | Counter: 0\n",
      "Epoch 2/30 | Train Loss: 0.3811 | Val Loss: 0.3758 | Counter: 0\n",
      "Epoch 3/30 | Train Loss: 0.3403 | Val Loss: 0.3290 | Counter: 0\n",
      "Epoch 4/30 | Train Loss: 0.3110 | Val Loss: 0.3302 | Counter: 1\n",
      "Epoch 5/30 | Train Loss: 0.2885 | Val Loss: 0.3119 | Counter: 0\n",
      "Epoch 6/30 | Train Loss: 0.2724 | Val Loss: 0.2984 | Counter: 0\n",
      "Epoch 7/30 | Train Loss: 0.2574 | Val Loss: 0.3085 | Counter: 1\n",
      "Epoch 8/30 | Train Loss: 0.2417 | Val Loss: 0.3114 | Counter: 2\n",
      "Epoch 9/30 | Train Loss: 0.2314 | Val Loss: 0.3038 | Counter: 3\n",
      "Epoch 10/30 | Train Loss: 0.2179 | Val Loss: 0.3142 | Counter: 4\n",
      "Epoch 11/30 | Train Loss: 0.2055 | Val Loss: 0.3064 | Counter: 5\n",
      "Epoch 12/30 | Train Loss: 0.1660 | Val Loss: 0.2896 | Counter: 0\n",
      "Epoch 13/30 | Train Loss: 0.1569 | Val Loss: 0.3037 | Counter: 1\n",
      "Epoch 14/30 | Train Loss: 0.1469 | Val Loss: 0.3041 | Counter: 2\n",
      "Epoch 15/30 | Train Loss: 0.1392 | Val Loss: 0.3064 | Counter: 3\n",
      "Epoch 16/30 | Train Loss: 0.1287 | Val Loss: 0.3305 | Counter: 4\n",
      "Epoch 17/30 | Train Loss: 0.1246 | Val Loss: 0.3132 | Counter: 5\n",
      "Epoch 18/30 | Train Loss: 0.1008 | Val Loss: 0.3280 | Counter: 6\n",
      "Epoch 19/30 | Train Loss: 0.0909 | Val Loss: 0.3333 | Counter: 7\n",
      "Epoch 20/30 | Train Loss: 0.0865 | Val Loss: 0.3403 | Counter: 8\n",
      "Epoch 21/30 | Train Loss: 0.0826 | Val Loss: 0.3454 | Counter: 9\n",
      "Early stopping triggered.\n"
     ]
    }
   ],
   "source": [
    "epochs = 30\n",
    "es_patience = 10\n",
    "counter = 0\n",
    "best_val_loss = float('inf')\n",
    "delta = 1e-4\n",
    "\n",
    "for epoch in range(epochs):\n",
    "    Fashion_ANN.train()\n",
    "    total_loss=0\n",
    "    for images, labels in train_loader:\n",
    "        images, labels = images.to(device), labels.to(device)\n",
    "\n",
    "        outputs = Fashion_ANN(images)\n",
    "        loss = Loss(outputs, labels)\n",
    "        optimizer.zero_grad()\n",
    "        loss.backward()\n",
    "        optimizer.step()\n",
    "\n",
    "        total_loss += loss.item() \n",
    "    avg_loss = total_loss/len(train_loader)\n",
    "\n",
    "    #Validation\n",
    "    Fashion_ANN.eval()\n",
    "    total_val_loss = 0\n",
    "    \n",
    "    with torch.no_grad():\n",
    "        for images, labels in val_loader:\n",
    "            images, labels = images.to(device), labels.to(device)\n",
    "            outputs = Fashion_ANN(images)\n",
    "            val_loss = Loss(outputs, labels).item()\n",
    "            total_val_loss += val_loss\n",
    "    \n",
    "    avg_val_loss = total_val_loss/len(val_loader)\n",
    "    scheduler.step(avg_val_loss)   \n",
    "    #Early Stopping Check\n",
    "    if avg_val_loss < best_val_loss-delta:\n",
    "        best_val_loss = avg_val_loss\n",
    "        counter = 0\n",
    "        torch.save(Fashion_ANN.state_dict(), \"best_model.pth\")\n",
    "    else:\n",
    "        counter+=1\n",
    "        if counter>=es_patience:\n",
    "            print(\"Early stopping triggered.\")\n",
    "            break\n",
    "        \n",
    "    print(f\"Epoch {epoch+1}/{epochs} | Train Loss: {avg_loss:.4f} | Val Loss: {avg_val_loss:.4f} | Counter: {counter}\")"
   ]
  },
  {
   "cell_type": "code",
   "execution_count": null,
   "id": "35b6b7a4",
   "metadata": {},
   "outputs": [
    {
     "name": "stdout",
     "output_type": "stream",
     "text": [
      "Test Accuracy: 90.17%\n"
     ]
    }
   ],
   "source": [
    "Fashion_ANN.eval() \n",
    "\n",
    "with torch.no_grad():\n",
    "    correct = 0\n",
    "    total = 0\n",
    "    for images, labels in test_loader:\n",
    "        images, labels = images.to(device), labels.to(device) \n",
    "        outputs = Fashion_ANN(images) \n",
    "        _, predicted = torch.max(outputs, dim=1)\n",
    "        total += labels.size(0)\n",
    "        correct += (predicted == labels).sum().item()\n",
    "\n",
    "    print(f\"Test Accuracy: {100 * correct / total:.2f}%\")\n"
   ]
  }
 ],
 "metadata": {
  "kernelspec": {
   "display_name": "Python 3",
   "language": "python",
   "name": "python3"
  },
  "language_info": {
   "codemirror_mode": {
    "name": "ipython",
    "version": 3
   },
   "file_extension": ".py",
   "mimetype": "text/x-python",
   "name": "python",
   "nbconvert_exporter": "python",
   "pygments_lexer": "ipython3",
   "version": "3.10.9"
  }
 },
 "nbformat": 4,
 "nbformat_minor": 5
}
