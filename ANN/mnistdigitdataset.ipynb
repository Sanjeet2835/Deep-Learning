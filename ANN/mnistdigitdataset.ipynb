{
  "metadata": {
    "kernelspec": {
      "language": "python",
      "display_name": "Python 3",
      "name": "python3"
    },
    "language_info": {
      "name": "python",
      "version": "3.11.13",
      "mimetype": "text/x-python",
      "codemirror_mode": {
        "name": "ipython",
        "version": 3
      },
      "pygments_lexer": "ipython3",
      "nbconvert_exporter": "python",
      "file_extension": ".py"
    },
    "kaggle": {
      "accelerator": "none",
      "dataSources": [],
      "dockerImageVersionId": 31089,
      "isInternetEnabled": true,
      "language": "python",
      "sourceType": "notebook",
      "isGpuEnabled": false
    },
    "colab": {
      "provenance": [],
      "include_colab_link": true
    }
  },
  "nbformat_minor": 0,
  "nbformat": 4,
  "cells": [
    {
      "cell_type": "markdown",
      "metadata": {
        "id": "view-in-github",
        "colab_type": "text"
      },
      "source": [
        "<a href=\"https://colab.research.google.com/github/Sanjeet2835/Deep-Learning/blob/main/ANN/mnistdigitdataset.ipynb\" target=\"_parent\"><img src=\"https://colab.research.google.com/assets/colab-badge.svg\" alt=\"Open In Colab\"/></a>"
      ]
    },
    {
      "cell_type": "code",
      "source": [
        "import torch\n",
        "import torch.nn as nn\n",
        "import torch.optim as optim\n",
        "from torchvision import datasets, transforms\n",
        "from torch.utils.data import DataLoader"
      ],
      "metadata": {
        "_uuid": "8f2839f25d086af736a60e9eeb907d3b93b6e0e5",
        "_cell_guid": "b1076dfc-b9ad-4769-8c92-a6c4dae69d19",
        "trusted": true,
        "execution": {
          "iopub.status.busy": "2025-08-05T14:55:38.075728Z",
          "iopub.execute_input": "2025-08-05T14:55:38.076004Z",
          "iopub.status.idle": "2025-08-05T14:55:47.776003Z",
          "shell.execute_reply.started": "2025-08-05T14:55:38.075981Z",
          "shell.execute_reply": "2025-08-05T14:55:47.774952Z"
        },
        "id": "h4ubzr6T1UHQ"
      },
      "outputs": [],
      "execution_count": null
    },
    {
      "cell_type": "code",
      "source": [
        "transform = transforms.Compose([transforms.ToTensor(), transforms.Normalize((0.5,),(0.5,))])\n",
        "\n",
        "train_data =datasets.MNIST(root='./data', train = True, download = True, transform = transform)\n",
        "test_data = datasets.MNIST(root='./data', train = False, download = True, transform = transform)\n",
        "\n",
        "train_loader = DataLoader(train_data, batch_size=64, shuffle=True)\n",
        "test_loader = DataLoader(test_data, batch_size=64, shuffle=True)"
      ],
      "metadata": {
        "trusted": true,
        "execution": {
          "iopub.status.busy": "2025-08-05T14:55:47.778132Z",
          "iopub.execute_input": "2025-08-05T14:55:47.778649Z",
          "iopub.status.idle": "2025-08-05T14:55:57.748308Z",
          "shell.execute_reply.started": "2025-08-05T14:55:47.778619Z",
          "shell.execute_reply": "2025-08-05T14:55:57.747128Z"
        },
        "id": "jqelY8lg1UHS",
        "outputId": "c3139e6f-cb03-428a-b5b2-fc5ba0321fda"
      },
      "outputs": [
        {
          "name": "stderr",
          "text": "100%|██████████| 9.91M/9.91M [00:01<00:00, 6.05MB/s]\n100%|██████████| 28.9k/28.9k [00:00<00:00, 161kB/s]\n100%|██████████| 1.65M/1.65M [00:01<00:00, 1.52MB/s]\n100%|██████████| 4.54k/4.54k [00:00<00:00, 4.87MB/s]\n",
          "output_type": "stream"
        }
      ],
      "execution_count": null
    },
    {
      "cell_type": "code",
      "source": [
        "class Zero_Nine(nn.Module):\n",
        "    def __init__(self):\n",
        "        super().__init__()\n",
        "        self.fc1 = nn.Linear(28*28, 512)\n",
        "        self.relu = nn.ReLU()\n",
        "        self.fc2 = nn.Linear(512, 128)\n",
        "        self.fc3 = nn.Linear(128, 64)\n",
        "        self.fc4 = nn.Linear(64, 10)\n",
        "\n",
        "    def forward(self, x):\n",
        "        x = x.view(-1, 784)\n",
        "        x = self.fc1(x)\n",
        "        x = self.relu(x)\n",
        "        x = self.fc2(x)\n",
        "        x = self.fc3(x)\n",
        "        x = self.fc4(x)\n",
        "        return x"
      ],
      "metadata": {
        "trusted": true,
        "execution": {
          "iopub.status.busy": "2025-08-05T15:11:32.468299Z",
          "iopub.execute_input": "2025-08-05T15:11:32.469253Z",
          "iopub.status.idle": "2025-08-05T15:11:32.475553Z",
          "shell.execute_reply.started": "2025-08-05T15:11:32.469220Z",
          "shell.execute_reply": "2025-08-05T15:11:32.474393Z"
        },
        "id": "XaF30nlU1UHS"
      },
      "outputs": [],
      "execution_count": null
    },
    {
      "cell_type": "code",
      "source": [
        "model = Zero_Nine()\n",
        "Loss = nn.CrossEntropyLoss()\n",
        "optimizer = torch.optim.Adam(model.parameters(), lr=0.001)"
      ],
      "metadata": {
        "trusted": true,
        "execution": {
          "iopub.status.busy": "2025-08-05T15:11:35.846672Z",
          "iopub.execute_input": "2025-08-05T15:11:35.847587Z",
          "iopub.status.idle": "2025-08-05T15:11:35.858251Z",
          "shell.execute_reply.started": "2025-08-05T15:11:35.847557Z",
          "shell.execute_reply": "2025-08-05T15:11:35.857257Z"
        },
        "id": "qtSugiTc1UHT"
      },
      "outputs": [],
      "execution_count": null
    },
    {
      "cell_type": "code",
      "source": [
        "epochs = 5\n",
        "for epoch in range(epochs):\n",
        "    model.train()\n",
        "    for images, labels in train_loader:\n",
        "        outputs = model(images)\n",
        "        loss = Loss(outputs, labels)\n",
        "        optimizer.zero_grad()\n",
        "        loss.backward()\n",
        "        optimizer.step()\n",
        "        avg_loss = loss.item()/len(train_loader)\n",
        "    print(f\"Epoch: {epoch+1}/{epochs} Loss: {avg_loss:.4f}\")"
      ],
      "metadata": {
        "trusted": true,
        "execution": {
          "iopub.status.busy": "2025-08-05T15:11:37.746404Z",
          "iopub.execute_input": "2025-08-05T15:11:37.746733Z",
          "iopub.status.idle": "2025-08-05T15:13:15.676870Z",
          "shell.execute_reply.started": "2025-08-05T15:11:37.746709Z",
          "shell.execute_reply": "2025-08-05T15:13:15.675875Z"
        },
        "id": "aXjdWh7P1UHT",
        "outputId": "30cca4d2-bc06-457f-c2ca-d42b982e9043"
      },
      "outputs": [
        {
          "name": "stdout",
          "text": "Epoch: 1/5 Loss: 0.0004\nEpoch: 2/5 Loss: 0.0001\nEpoch: 3/5 Loss: 0.0001\nEpoch: 4/5 Loss: 0.0000\nEpoch: 5/5 Loss: 0.0002\n",
          "output_type": "stream"
        }
      ],
      "execution_count": null
    },
    {
      "cell_type": "code",
      "source": [
        "model.eval()\n",
        "with torch.no_grad():\n",
        "    correct = 0\n",
        "    total = 0\n",
        "    for images, labels in test_loader:\n",
        "        outputs = model(images)\n",
        "        _, predicted = torch.max(outputs, dim=1)\n",
        "        total += labels.size(0)\n",
        "        correct += (predicted == labels).sum().item()\n",
        "\n",
        "    print(f\"Test Accuracy: {100 * correct / total:.2f}%\")"
      ],
      "metadata": {
        "trusted": true,
        "execution": {
          "iopub.status.busy": "2025-08-05T15:15:16.381978Z",
          "iopub.execute_input": "2025-08-05T15:15:16.382744Z",
          "iopub.status.idle": "2025-08-05T15:15:18.848902Z",
          "shell.execute_reply.started": "2025-08-05T15:15:16.382713Z",
          "shell.execute_reply": "2025-08-05T15:15:18.847982Z"
        },
        "id": "9c1A3AY41UHT",
        "outputId": "7f36c8d6-cb9d-4ab6-a5fa-cb137622abd6"
      },
      "outputs": [
        {
          "name": "stdout",
          "text": "Test Accuracy: 97.03%\n",
          "output_type": "stream"
        }
      ],
      "execution_count": null
    }
  ]
}