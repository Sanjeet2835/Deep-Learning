{
 "cells": [
  {
   "cell_type": "code",
   "execution_count": 16,
   "metadata": {
    "_cell_guid": "b1076dfc-b9ad-4769-8c92-a6c4dae69d19",
    "_uuid": "8f2839f25d086af736a60e9eeb907d3b93b6e0e5",
    "execution": {
     "iopub.execute_input": "2025-08-20T11:19:23.267593Z",
     "iopub.status.busy": "2025-08-20T11:19:23.266904Z",
     "iopub.status.idle": "2025-08-20T11:19:23.271605Z",
     "shell.execute_reply": "2025-08-20T11:19:23.270764Z",
     "shell.execute_reply.started": "2025-08-20T11:19:23.267569Z"
    },
    "trusted": true
   },
   "outputs": [],
   "source": [
    "import torch\n",
    "import torch.nn as nn\n",
    "from torchvision import datasets, transforms\n",
    "from torch.utils.data import DataLoader, random_split\n",
    "import torch.optim as optim\n",
    "import random\n",
    "import numpy as np"
   ]
  },
  {
   "cell_type": "code",
   "execution_count": 17,
   "metadata": {
    "execution": {
     "iopub.execute_input": "2025-08-20T11:19:23.292268Z",
     "iopub.status.busy": "2025-08-20T11:19:23.291743Z",
     "iopub.status.idle": "2025-08-20T11:19:23.295966Z",
     "shell.execute_reply": "2025-08-20T11:19:23.295283Z",
     "shell.execute_reply.started": "2025-08-20T11:19:23.292251Z"
    },
    "trusted": true
   },
   "outputs": [
    {
     "name": "stdout",
     "output_type": "stream",
     "text": [
      "device using:  cuda\n"
     ]
    }
   ],
   "source": [
    "device = torch.device('cuda' if torch.cuda.is_available() else 'cpu')\n",
    "print(\"device using: \", device)"
   ]
  },
  {
   "cell_type": "code",
   "execution_count": 18,
   "metadata": {
    "execution": {
     "iopub.execute_input": "2025-08-20T11:19:23.297377Z",
     "iopub.status.busy": "2025-08-20T11:19:23.297120Z",
     "iopub.status.idle": "2025-08-20T11:19:23.313981Z",
     "shell.execute_reply": "2025-08-20T11:19:23.313275Z",
     "shell.execute_reply.started": "2025-08-20T11:19:23.297358Z"
    },
    "trusted": true
   },
   "outputs": [],
   "source": [
    "def set_seed(seed=42):\n",
    "\n",
    "    torch.manual_seed(seed)\n",
    "    torch.cuda.manual_seed(seed)\n",
    "    torch.cuda.manual_seed_all(seed) \n",
    "    np.random.seed(seed)\n",
    "    random.seed(seed)\n",
    "\n",
    "    torch.backends.cudnn.deterministic = True\n",
    "    torch.backends.cudnn.benchmark = False\n",
    "\n",
    "set_seed(42)"
   ]
  },
  {
   "cell_type": "code",
   "execution_count": null,
   "metadata": {
    "execution": {
     "iopub.execute_input": "2025-08-20T11:19:23.315059Z",
     "iopub.status.busy": "2025-08-20T11:19:23.314861Z",
     "iopub.status.idle": "2025-08-20T11:19:25.004297Z",
     "shell.execute_reply": "2025-08-20T11:19:25.003733Z",
     "shell.execute_reply.started": "2025-08-20T11:19:23.315045Z"
    },
    "trusted": true
   },
   "outputs": [],
   "source": [
    "import os, shutil\n",
    "from PIL import Image\n",
    "\n",
    "src = \"/kaggle/input/microsoft-catsvsdogs-dataset/PetImages\"\n",
    "dst = \"/kaggle/working/PetImages\"\n",
    "\n",
    "if not os.path.exists(dst):\n",
    "    shutil.copytree(src, dst)\n",
    "\n",
    "# Now clean in /kaggle/working\n",
    "for category in [\"Cat\", \"Dog\"]:\n",
    "    folder = os.path.join(dst, category) \n",
    "    for file in os.listdir(folder): \n",
    "        fpath = os.path.join(folder, file)\n",
    "        try:\n",
    "            img = Image.open(fpath)\n",
    "            img.verify()\n",
    "        except:\n",
    "            os.remove(fpath)"
   ]
  },
  {
   "cell_type": "code",
   "execution_count": null,
   "metadata": {
    "execution": {
     "iopub.execute_input": "2025-08-20T11:19:25.005664Z",
     "iopub.status.busy": "2025-08-20T11:19:25.005407Z",
     "iopub.status.idle": "2025-08-20T11:19:25.010515Z",
     "shell.execute_reply": "2025-08-20T11:19:25.009976Z",
     "shell.execute_reply.started": "2025-08-20T11:19:25.005647Z"
    },
    "trusted": true
   },
   "outputs": [],
   "source": [
    "train_transform = transforms.Compose([\n",
    "    transforms.RandomHorizontalFlip(p=0.5),\n",
    "    transforms.RandomRotation(10),\n",
    "    transforms.ColorJitter(brightness=0.2, contrast=0.2, saturation=0.2),\n",
    "    transforms.RandomResizedCrop(128, scale=(0.8, 1.0)),  \n",
    "    transforms.ToTensor(),\n",
    "    transforms.RandomErasing(p=0.5, scale=(0.02, 0.1)),\n",
    "    transforms.Normalize([0.485, 0.456, 0.406], [0.229, 0.224, 0.225])  # standard ImageNet normalization\n",
    "])"
   ]
  },
  {
   "cell_type": "code",
   "execution_count": 21,
   "metadata": {
    "execution": {
     "iopub.execute_input": "2025-08-20T11:19:25.011530Z",
     "iopub.status.busy": "2025-08-20T11:19:25.011285Z",
     "iopub.status.idle": "2025-08-20T11:19:25.028663Z",
     "shell.execute_reply": "2025-08-20T11:19:25.027836Z",
     "shell.execute_reply.started": "2025-08-20T11:19:25.011507Z"
    },
    "trusted": true
   },
   "outputs": [],
   "source": [
    "val_test_transform = transforms.Compose([transforms.Resize((128,128)),\n",
    "                                        transforms.ToTensor(), \n",
    "                                        transforms.Normalize(mean=[0.485, 0.456, 0.406], std=[0.229, 0.224, 0.225])])"
   ]
  },
  {
   "cell_type": "code",
   "execution_count": 22,
   "metadata": {
    "execution": {
     "iopub.execute_input": "2025-08-20T11:19:25.030905Z",
     "iopub.status.busy": "2025-08-20T11:19:25.030720Z",
     "iopub.status.idle": "2025-08-20T11:19:25.260193Z",
     "shell.execute_reply": "2025-08-20T11:19:25.259614Z",
     "shell.execute_reply.started": "2025-08-20T11:19:25.030891Z"
    },
    "trusted": true
   },
   "outputs": [],
   "source": [
    "dataset = datasets.ImageFolder(root=dst)"
   ]
  },
  {
   "cell_type": "code",
   "execution_count": 23,
   "metadata": {
    "execution": {
     "iopub.execute_input": "2025-08-20T11:19:25.261183Z",
     "iopub.status.busy": "2025-08-20T11:19:25.261006Z",
     "iopub.status.idle": "2025-08-20T11:19:25.265390Z",
     "shell.execute_reply": "2025-08-20T11:19:25.264649Z",
     "shell.execute_reply.started": "2025-08-20T11:19:25.261169Z"
    },
    "trusted": true
   },
   "outputs": [
    {
     "name": "stdout",
     "output_type": "stream",
     "text": [
      "24998\n"
     ]
    }
   ],
   "source": [
    "print(len(dataset))"
   ]
  },
  {
   "cell_type": "code",
   "execution_count": 24,
   "metadata": {
    "execution": {
     "iopub.execute_input": "2025-08-20T11:19:25.266399Z",
     "iopub.status.busy": "2025-08-20T11:19:25.266166Z",
     "iopub.status.idle": "2025-08-20T11:19:25.283488Z",
     "shell.execute_reply": "2025-08-20T11:19:25.282987Z",
     "shell.execute_reply.started": "2025-08-20T11:19:25.266385Z"
    },
    "trusted": true
   },
   "outputs": [
    {
     "name": "stdout",
     "output_type": "stream",
     "text": [
      "['Cat', 'Dog']\n"
     ]
    }
   ],
   "source": [
    "print(dataset.classes)"
   ]
  },
  {
   "cell_type": "code",
   "execution_count": 25,
   "metadata": {
    "execution": {
     "iopub.execute_input": "2025-08-20T11:19:25.284376Z",
     "iopub.status.busy": "2025-08-20T11:19:25.284154Z",
     "iopub.status.idle": "2025-08-20T11:19:25.302367Z",
     "shell.execute_reply": "2025-08-20T11:19:25.301787Z",
     "shell.execute_reply.started": "2025-08-20T11:19:25.284361Z"
    },
    "trusted": true
   },
   "outputs": [],
   "source": [
    "train_size = int(0.7*len(dataset))\n",
    "val_size = int(0.1*len(dataset))\n",
    "test_size = len(dataset) - train_size - val_size\n",
    "\n",
    "train_set, val_set, test_set = random_split(dataset, [train_size, val_size, test_size])"
   ]
  },
  {
   "cell_type": "code",
   "execution_count": 26,
   "metadata": {
    "execution": {
     "iopub.execute_input": "2025-08-20T11:19:25.303305Z",
     "iopub.status.busy": "2025-08-20T11:19:25.303091Z",
     "iopub.status.idle": "2025-08-20T11:19:25.319852Z",
     "shell.execute_reply": "2025-08-20T11:19:25.319365Z",
     "shell.execute_reply.started": "2025-08-20T11:19:25.303284Z"
    },
    "trusted": true
   },
   "outputs": [],
   "source": [
    "# Custom wrapper\n",
    "class TransformDataset(torch.utils.data.Dataset):\n",
    "    def __init__(self, subset, transform):\n",
    "        self.subset = subset\n",
    "        self.transform = transform\n",
    "    \n",
    "    def __getitem__(self, idx):\n",
    "        x, y = self.subset[idx]\n",
    "        if self.transform:\n",
    "            x = self.transform(x)\n",
    "        return x, y\n",
    "    \n",
    "    def __len__(self):\n",
    "        return len(self.subset)\n",
    "\n",
    "train_dataset = TransformDataset(train_set, train_transform)\n",
    "val_dataset = TransformDataset(val_set, val_test_transform)\n",
    "test_dataset = TransformDataset(test_set, val_test_transform)"
   ]
  },
  {
   "cell_type": "code",
   "execution_count": 27,
   "metadata": {
    "execution": {
     "iopub.execute_input": "2025-08-20T11:19:25.320661Z",
     "iopub.status.busy": "2025-08-20T11:19:25.320465Z",
     "iopub.status.idle": "2025-08-20T11:19:25.348196Z",
     "shell.execute_reply": "2025-08-20T11:19:25.347602Z",
     "shell.execute_reply.started": "2025-08-20T11:19:25.320647Z"
    },
    "trusted": true
   },
   "outputs": [],
   "source": [
    "train_loader = DataLoader(train_dataset, batch_size=64, shuffle=True, num_workers=3, pin_memory=True)\n",
    "test_loader = DataLoader(test_dataset, batch_size=64,  num_workers=3, pin_memory=True)\n",
    "val_loader = DataLoader(val_dataset, batch_size=64,  num_workers=3, pin_memory=True)"
   ]
  },
  {
   "cell_type": "code",
   "execution_count": null,
   "metadata": {
    "execution": {
     "iopub.execute_input": "2025-08-20T11:19:25.350495Z",
     "iopub.status.busy": "2025-08-20T11:19:25.350222Z",
     "iopub.status.idle": "2025-08-20T11:19:25.367763Z",
     "shell.execute_reply": "2025-08-20T11:19:25.367197Z",
     "shell.execute_reply.started": "2025-08-20T11:19:25.350467Z"
    },
    "trusted": true
   },
   "outputs": [],
   "source": [
    "class PetNet(nn.Module):\n",
    "    def __init__(self, num_channels):\n",
    "        super().__init__()\n",
    "        self.features_extractor = nn.Sequential(\n",
    "            nn.Conv2d(num_channels, 32, kernel_size=3, padding='same'),\n",
    "            nn.BatchNorm2d(32),\n",
    "            nn.ReLU(),\n",
    "            nn.Conv2d(32, 32, kernel_size=3, padding='same'),\n",
    "            nn.MaxPool2d(kernel_size=2, stride=2),\n",
    "\n",
    "            nn.Conv2d(32, 64, kernel_size=3, padding='same'),\n",
    "            nn.BatchNorm2d(64),\n",
    "            nn.ReLU(),\n",
    "            nn.Conv2d(64, 64, kernel_size=3, padding='same'),\n",
    "            nn.MaxPool2d(kernel_size=2, stride=2),\n",
    "\n",
    "            nn.Conv2d(64, 128, kernel_size=3, padding='same'),\n",
    "            nn.BatchNorm2d(128),\n",
    "            nn.ReLU(),\n",
    "            nn.Conv2d(128, 128, kernel_size=3, padding='same'),\n",
    "            nn.MaxPool2d(kernel_size=2, stride=2),\n",
    "\n",
    "            nn.Conv2d(128, 256, kernel_size=3, padding='same'),\n",
    "            nn.BatchNorm2d(256),\n",
    "            nn.ReLU(),\n",
    "            nn.Conv2d(256, 256, kernel_size=3, padding='same'),\n",
    "            nn.MaxPool2d(kernel_size=2, stride=2),\n",
    "\n",
    "            nn.Conv2d(256, 512, kernel_size=3, padding='same'),\n",
    "            nn.BatchNorm2d(512),\n",
    "            nn.ReLU(),\n",
    "            nn.Conv2d(512, 512, kernel_size=3, padding='same'),\n",
    "            nn.MaxPool2d(kernel_size=2, stride=2)\n",
    "            \n",
    "        )\n",
    "\n",
    "        self.classifier = nn.Sequential(\n",
    "            nn.AdaptiveAvgPool2d((1,1)), #now u dont need to worry about the size of input image\n",
    "            nn.Flatten(),   #without adaptivepool there would be 1,31,072 input nodes thus increasing computation and training time\n",
    "            nn.Linear(512*1*1, 128), \n",
    "            nn.BatchNorm1d(128),\n",
    "            nn.ReLU(),\n",
    "            nn.Dropout(0.3),\n",
    "            nn.Linear(128,64),\n",
    "            nn.BatchNorm1d(64),\n",
    "            nn.ReLU(),\n",
    "            nn.Dropout(0.3),\n",
    "            nn.Linear(64,2)\n",
    "        )\n",
    "\n",
    "    def forward(self, x):\n",
    "        x = self.features_extractor(x)\n",
    "        x = self.classifier(x)\n",
    "        return x"
   ]
  },
  {
   "cell_type": "code",
   "execution_count": 29,
   "metadata": {
    "execution": {
     "iopub.execute_input": "2025-08-20T11:19:25.368533Z",
     "iopub.status.busy": "2025-08-20T11:19:25.368333Z",
     "iopub.status.idle": "2025-08-20T11:19:25.438939Z",
     "shell.execute_reply": "2025-08-20T11:19:25.438187Z",
     "shell.execute_reply.started": "2025-08-20T11:19:25.368518Z"
    },
    "trusted": true
   },
   "outputs": [],
   "source": [
    "Pet = PetNet(3).to(device)\n",
    "optimizer = optim.Adam(Pet.parameters(), lr=1e-3)\n",
    "Loss = nn.CrossEntropyLoss()\n",
    "scheduler = optim.lr_scheduler.ReduceLROnPlateau(optimizer, mode='min', patience=3, factor=0.5, min_lr=1e-6)"
   ]
  },
  {
   "cell_type": "code",
   "execution_count": 30,
   "metadata": {
    "execution": {
     "iopub.execute_input": "2025-08-20T11:19:25.440058Z",
     "iopub.status.busy": "2025-08-20T11:19:25.439749Z",
     "iopub.status.idle": "2025-08-20T12:36:19.076590Z",
     "shell.execute_reply": "2025-08-20T12:36:19.075841Z",
     "shell.execute_reply.started": "2025-08-20T11:19:25.440039Z"
    },
    "trusted": true
   },
   "outputs": [
    {
     "name": "stdout",
     "output_type": "stream",
     "text": [
      "Epoch:1/100 | Val_loss: 0.8335 | Patience Counter: 0\n",
      "Epoch:2/100 | Val_loss: 0.6038 | Patience Counter: 0\n",
      "Epoch:3/100 | Val_loss: 0.6834 | Patience Counter: 1\n",
      "Epoch:4/100 | Val_loss: 0.4385 | Patience Counter: 0\n",
      "Epoch:5/100 | Val_loss: 0.4455 | Patience Counter: 1\n",
      "Epoch:6/100 | Val_loss: 0.4116 | Patience Counter: 0\n",
      "Epoch:7/100 | Val_loss: 0.3306 | Patience Counter: 0\n",
      "Epoch:8/100 | Val_loss: 0.3336 | Patience Counter: 1\n",
      "Epoch:9/100 | Val_loss: 0.3549 | Patience Counter: 2\n",
      "Epoch:10/100 | Val_loss: 0.3881 | Patience Counter: 3\n",
      "Epoch:11/100 | Val_loss: 0.4386 | Patience Counter: 4\n",
      "Epoch:12/100 | Val_loss: 0.1720 | Patience Counter: 0\n",
      "Epoch:13/100 | Val_loss: 0.1539 | Patience Counter: 0\n",
      "Epoch:14/100 | Val_loss: 0.1997 | Patience Counter: 1\n",
      "Epoch:15/100 | Val_loss: 0.1459 | Patience Counter: 0\n",
      "Epoch:16/100 | Val_loss: 0.1393 | Patience Counter: 0\n",
      "Epoch:17/100 | Val_loss: 0.1440 | Patience Counter: 1\n",
      "Epoch:18/100 | Val_loss: 0.1568 | Patience Counter: 2\n",
      "Epoch:19/100 | Val_loss: 0.1384 | Patience Counter: 0\n",
      "Epoch:20/100 | Val_loss: 0.1504 | Patience Counter: 1\n",
      "Epoch:21/100 | Val_loss: 0.1258 | Patience Counter: 0\n",
      "Epoch:22/100 | Val_loss: 0.1273 | Patience Counter: 1\n",
      "Epoch:23/100 | Val_loss: 0.1631 | Patience Counter: 2\n",
      "Epoch:24/100 | Val_loss: 0.1257 | Patience Counter: 3\n",
      "Epoch:25/100 | Val_loss: 0.1189 | Patience Counter: 0\n",
      "Epoch:26/100 | Val_loss: 0.1158 | Patience Counter: 0\n",
      "Epoch:27/100 | Val_loss: 0.1306 | Patience Counter: 1\n",
      "Epoch:28/100 | Val_loss: 0.1091 | Patience Counter: 0\n",
      "Epoch:29/100 | Val_loss: 0.1026 | Patience Counter: 0\n",
      "Epoch:30/100 | Val_loss: 0.1087 | Patience Counter: 1\n",
      "Epoch:31/100 | Val_loss: 0.1441 | Patience Counter: 2\n",
      "Epoch:32/100 | Val_loss: 0.1071 | Patience Counter: 3\n",
      "Epoch:33/100 | Val_loss: 0.0900 | Patience Counter: 0\n",
      "Epoch:34/100 | Val_loss: 0.2454 | Patience Counter: 1\n",
      "Epoch:35/100 | Val_loss: 0.1025 | Patience Counter: 2\n",
      "Epoch:36/100 | Val_loss: 0.1260 | Patience Counter: 3\n",
      "Epoch:37/100 | Val_loss: 0.0981 | Patience Counter: 4\n",
      "Epoch:38/100 | Val_loss: 0.0961 | Patience Counter: 5\n",
      "Epoch:39/100 | Val_loss: 0.1007 | Patience Counter: 6\n",
      "Epoch:40/100 | Val_loss: 0.0941 | Patience Counter: 7\n",
      "Epoch:41/100 | Val_loss: 0.1007 | Patience Counter: 8\n",
      "Epoch:42/100 | Val_loss: 0.0882 | Patience Counter: 0\n",
      "Epoch:43/100 | Val_loss: 0.0925 | Patience Counter: 1\n",
      "Epoch:44/100 | Val_loss: 0.0920 | Patience Counter: 2\n",
      "Epoch:45/100 | Val_loss: 0.0915 | Patience Counter: 3\n",
      "Epoch:46/100 | Val_loss: 0.0932 | Patience Counter: 4\n",
      "Epoch:47/100 | Val_loss: 0.0921 | Patience Counter: 5\n",
      "Epoch:48/100 | Val_loss: 0.0873 | Patience Counter: 0\n",
      "Epoch:49/100 | Val_loss: 0.0947 | Patience Counter: 1\n",
      "Epoch:50/100 | Val_loss: 0.0911 | Patience Counter: 2\n",
      "Epoch:51/100 | Val_loss: 0.0885 | Patience Counter: 3\n",
      "Epoch:52/100 | Val_loss: 0.0947 | Patience Counter: 4\n",
      "Epoch:53/100 | Val_loss: 0.0884 | Patience Counter: 5\n",
      "Epoch:54/100 | Val_loss: 0.0878 | Patience Counter: 6\n",
      "Epoch:55/100 | Val_loss: 0.0898 | Patience Counter: 7\n",
      "Epoch:56/100 | Val_loss: 0.0889 | Patience Counter: 8\n",
      "Epoch:57/100 | Val_loss: 0.0929 | Patience Counter: 9\n",
      "Epoch:58/100 | Val_loss: 0.0900 | Patience Counter: 10\n",
      "Epoch:59/100 | Val_loss: 0.0901 | Patience Counter: 11\n",
      "Epoch:60/100 | Val_loss: 0.0922 | Patience Counter: 12\n",
      "Epoch:61/100 | Val_loss: 0.0921 | Patience Counter: 13\n",
      "Epoch:62/100 | Val_loss: 0.0917 | Patience Counter: 14\n",
      "Early stopping triggered.\n"
     ]
    }
   ],
   "source": [
    "epochs = 100\n",
    "es_patience = 14\n",
    "counter = 0\n",
    "best_val_loss = float('inf')     #float('inf') is basically Python’s way of saying “this number is larger than anything I can represent” → i.e. positive infinity\n",
    "delta=1e-4\n",
    "\n",
    "for epoch in range(epochs):\n",
    "    Pet.train()\n",
    "    for images, labels in train_loader:\n",
    "        images, labels = images.to(device), labels.to(device)\n",
    "        outputs = Pet(images)\n",
    "        loss = Loss(outputs,labels)\n",
    "        optimizer.zero_grad()\n",
    "        loss.backward()\n",
    "        optimizer.step()\n",
    "\n",
    "\n",
    "    #Validation part\n",
    "    total_val_loss=0\n",
    "    Pet.eval()\n",
    "    total_samples = 0\n",
    "    with torch.no_grad():\n",
    "        for images, labels in val_loader:\n",
    "            images, labels = images.to(device), labels.to(device)\n",
    "            outputs = Pet(images)\n",
    "            loss = Loss(outputs, labels) # mean loss per sample\n",
    "            total_val_loss += loss*labels.size(0) #total loss per batch in each loop, eventually at the end, total loss on whole data\n",
    "            total_samples += labels.size(0)\n",
    "        avg_val_loss = total_val_loss / total_samples\n",
    "        scheduler.step(avg_val_loss)\n",
    "\n",
    "    #Early stopping\n",
    "    if avg_val_loss < best_val_loss-delta:\n",
    "        best_val_loss = avg_val_loss\n",
    "        torch.save(Pet.state_dict(), \"best_model_trial.pth\")\n",
    "        counter=0\n",
    "    else:\n",
    "        counter+=1\n",
    "        if counter>es_patience:\n",
    "            print(\"Early stopping triggered.\")\n",
    "            break\n",
    "    print(f\"Epoch:{(epoch+1)}/{epochs} | Val_loss: {avg_val_loss:.4f} | Patience Counter: {counter}\")"
   ]
  },
  {
   "cell_type": "code",
   "execution_count": 31,
   "metadata": {
    "execution": {
     "iopub.execute_input": "2025-08-20T12:36:19.077970Z",
     "iopub.status.busy": "2025-08-20T12:36:19.077706Z",
     "iopub.status.idle": "2025-08-20T12:36:25.600499Z",
     "shell.execute_reply": "2025-08-20T12:36:25.599810Z",
     "shell.execute_reply.started": "2025-08-20T12:36:19.077946Z"
    },
    "trusted": true
   },
   "outputs": [
    {
     "name": "stdout",
     "output_type": "stream",
     "text": [
      "Test Accuracy: 96.58%\n"
     ]
    }
   ],
   "source": [
    "#Testing\n",
    "Pet.eval()\n",
    "correct=0\n",
    "total=0\n",
    "with torch.no_grad():\n",
    "    for images, labels in test_loader:\n",
    "        images, labels = images.to(device), labels.to(device)\n",
    "        outputs = Pet(images)\n",
    "        _, predicted = torch.max(outputs, dim=1)\n",
    "        total += labels.size(0)\n",
    "        correct+=(predicted==labels).sum().item()\n",
    "    test_accuracy=100*correct/total\n",
    "    print(f\"Test Accuracy: {test_accuracy:.2f}%\")\n",
    "    "
   ]
  },
  {
   "cell_type": "code",
   "execution_count": null,
   "metadata": {
    "execution": {
     "iopub.execute_input": "2025-08-20T12:53:52.294865Z",
     "iopub.status.busy": "2025-08-20T12:53:52.294543Z",
     "iopub.status.idle": "2025-08-20T12:53:52.708998Z",
     "shell.execute_reply": "2025-08-20T12:53:52.708309Z",
     "shell.execute_reply.started": "2025-08-20T12:53:52.294843Z"
    },
    "trusted": true
   },
   "outputs": [
    {
     "data": {
      "image/png": "[encoded data removed]",
      "text/plain": [
       "<Figure size 1000x500 with 1 Axes>"
      ]
     },
     "metadata": {},
     "output_type": "display_data"
    }
   ],
   "source": [
    "import matplotlib.pyplot as plt\n",
    "\n",
    "val_loss = [0.8335, 0.6038, 0.6834, 0.4385, 0.4455, 0.4116, 0.3306, 0.3336, 0.3549, 0.3881,\n",
    "            0.4386, 0.1720, 0.1539, 0.1997, 0.1459, 0.1393, 0.1440, 0.1568, 0.1384, 0.1504,\n",
    "            0.1258, 0.1273, 0.1631, 0.1257, 0.1189, 0.1158, 0.1306, 0.1091, 0.1026, 0.1087,\n",
    "            0.1441, 0.1071, 0.0900, 0.2454, 0.1025, 0.1260, 0.0981, 0.0961, 0.1007, 0.0941,\n",
    "            0.1007, 0.0882, 0.0925, 0.0920, 0.0915, 0.0932, 0.0921, 0.0873, 0.0947, 0.0911,\n",
    "            0.0885, 0.0947, 0.0884, 0.0878, 0.0898, 0.0889, 0.0929, 0.0900, 0.0901, 0.0922,\n",
    "            0.0921]\n",
    "\n",
    "epochs = list(range(1, len(val_loss)+1))\n",
    "\n",
    "plt.figure(figsize=(10,5))\n",
    "plt.plot(epochs, val_loss, marker='o', label='Validation Loss')\n",
    "plt.xlabel(\"Epochs\")\n",
    "plt.ylabel(\"Loss\")\n",
    "plt.title(\"Validation Loss over Epochs\")\n",
    "plt.grid(True)\n",
    "plt.legend()\n",
    "plt.show()\n"
   ]
  },
  {
   "cell_type": "code",
   "execution_count": null,
   "metadata": {
    "execution": {
     "iopub.execute_input": "2025-08-20T12:58:40.965359Z",
     "iopub.status.busy": "2025-08-20T12:58:40.964818Z",
     "iopub.status.idle": "2025-08-20T12:58:41.175011Z",
     "shell.execute_reply": "2025-08-20T12:58:41.174338Z",
     "shell.execute_reply.started": "2025-08-20T12:58:40.965335Z"
    },
    "trusted": true
   },
   "outputs": [
    {
     "data": {
      "image/png": "[encoded data removed]",
      "text/plain": [
       "<Figure size 1200x500 with 1 Axes>"
      ]
     },
     "metadata": {},
     "output_type": "display_data"
    }
   ],
   "source": [
    "import re\n",
    "import matplotlib.pyplot as plt\n",
    "\n",
    "\n",
    "log_text = \"\"\"\n",
    "Epoch:1/100 | Val_loss: 0.8335 | Patience Counter: 0\n",
    "Epoch:2/100 | Val_loss: 0.6038 | Patience Counter: 0\n",
    "Epoch:3/100 | Val_loss: 0.6834 | Patience Counter: 1\n",
    "Epoch:4/100 | Val_loss: 0.4385 | Patience Counter: 0\n",
    "Epoch:5/100 | Val_loss: 0.4455 | Patience Counter: 1\n",
    "Epoch:6/100 | Val_loss: 0.4116 | Patience Counter: 0\n",
    "Epoch:7/100 | Val_loss: 0.3306 | Patience Counter: 0\n",
    "Epoch:8/100 | Val_loss: 0.3336 | Patience Counter: 1\n",
    "Epoch:9/100 | Val_loss: 0.3549 | Patience Counter: 2\n",
    "Epoch:10/100 | Val_loss: 0.3881 | Patience Counter: 3\n",
    "Epoch:11/100 | Val_loss: 0.4386 | Patience Counter: 4\n",
    "Epoch:12/100 | Val_loss: 0.1720 | Patience Counter: 0\n",
    "Epoch:13/100 | Val_loss: 0.1539 | Patience Counter: 0\n",
    "Epoch:14/100 | Val_loss: 0.1997 | Patience Counter: 1\n",
    "Epoch:15/100 | Val_loss: 0.1459 | Patience Counter: 0\n",
    "Epoch:16/100 | Val_loss: 0.1393 | Patience Counter: 0\n",
    "Epoch:17/100 | Val_loss: 0.1440 | Patience Counter: 1\n",
    "Epoch:18/100 | Val_loss: 0.1568 | Patience Counter: 2\n",
    "Epoch:19/100 | Val_loss: 0.1384 | Patience Counter: 0\n",
    "Epoch:20/100 | Val_loss: 0.1504 | Patience Counter: 1\n",
    "Epoch:21/100 | Val_loss: 0.1258 | Patience Counter: 0\n",
    "Epoch:22/100 | Val_loss: 0.1273 | Patience Counter: 1\n",
    "Epoch:23/100 | Val_loss: 0.1631 | Patience Counter: 2\n",
    "Epoch:24/100 | Val_loss: 0.1257 | Patience Counter: 3\n",
    "Epoch:25/100 | Val_loss: 0.1189 | Patience Counter: 0\n",
    "Epoch:26/100 | Val_loss: 0.1158 | Patience Counter: 0\n",
    "Epoch:27/100 | Val_loss: 0.1306 | Patience Counter: 1\n",
    "Epoch:28/100 | Val_loss: 0.1091 | Patience Counter: 0\n",
    "Epoch:29/100 | Val_loss: 0.1026 | Patience Counter: 0\n",
    "Epoch:30/100 | Val_loss: 0.1087 | Patience Counter: 1\n",
    "Epoch:31/100 | Val_loss: 0.1441 | Patience Counter: 2\n",
    "Epoch:32/100 | Val_loss: 0.1071 | Patience Counter: 3\n",
    "Epoch:33/100 | Val_loss: 0.0900 | Patience Counter: 0\n",
    "Epoch:34/100 | Val_loss: 0.2454 | Patience Counter: 1\n",
    "Epoch:35/100 | Val_loss: 0.1025 | Patience Counter: 2\n",
    "Epoch:36/100 | Val_loss: 0.1260 | Patience Counter: 3\n",
    "Epoch:37/100 | Val_loss: 0.0981 | Patience Counter: 4\n",
    "Epoch:38/100 | Val_loss: 0.0961 | Patience Counter: 5\n",
    "Epoch:39/100 | Val_loss: 0.1007 | Patience Counter: 6\n",
    "Epoch:40/100 | Val_loss: 0.0941 | Patience Counter: 7\n",
    "Epoch:41/100 | Val_loss: 0.1007 | Patience Counter: 8\n",
    "Epoch:42/100 | Val_loss: 0.0882 | Patience Counter: 0\n",
    "Epoch:43/100 | Val_loss: 0.0925 | Patience Counter: 1\n",
    "Epoch:44/100 | Val_loss: 0.0920 | Patience Counter: 2\n",
    "Epoch:45/100 | Val_loss: 0.0915 | Patience Counter: 3\n",
    "Epoch:46/100 | Val_loss: 0.0932 | Patience Counter: 4\n",
    "Epoch:47/100 | Val_loss: 0.0921 | Patience Counter: 5\n",
    "Epoch:48/100 | Val_loss: 0.0873 | Patience Counter: 0\n",
    "Epoch:49/100 | Val_loss: 0.0947 | Patience Counter: 1\n",
    "Epoch:50/100 | Val_loss: 0.0911 | Patience Counter: 2\n",
    "Epoch:51/100 | Val_loss: 0.0885 | Patience Counter: 3\n",
    "Epoch:52/100 | Val_loss: 0.0947 | Patience Counter: 4\n",
    "Epoch:53/100 | Val_loss: 0.0884 | Patience Counter: 5\n",
    "Epoch:54/100 | Val_loss: 0.0878 | Patience Counter: 6\n",
    "Epoch:55/100 | Val_loss: 0.0898 | Patience Counter: 7\n",
    "Epoch:56/100 | Val_loss: 0.0889 | Patience Counter: 8\n",
    "Epoch:57/100 | Val_loss: 0.0929 | Patience Counter: 9\n",
    "Epoch:58/100 | Val_loss: 0.0900 | Patience Counter: 10\n",
    "Epoch:59/100 | Val_loss: 0.0901 | Patience Counter: 11\n",
    "Epoch:60/100 | Val_loss: 0.0922 | Patience Counter: 12\n",
    "Epoch:61/100 | Val_loss: 0.0921 | Patience Counter: 13\n",
    "Epoch:62/100 | Val_loss: 0.0917 | Patience Counter: 14\n",
    "Early stopping triggered.\n",
    "\"\"\"\n",
    "\n",
    "# Extract val_loss and patience counter using regex\n",
    "val_loss = [float(x) for x in re.findall(r'Val_loss: ([0-9.]+)', log_text)]\n",
    "patience_counter = [int(x) for x in re.findall(r'Patience Counter: (\\d+)', log_text)]\n",
    "epochs = list(range(1, len(val_loss)+1))\n",
    "\n",
    "# Plot both\n",
    "plt.figure(figsize=(12,5))\n",
    "plt.plot(epochs, val_loss, marker='o', label='Validation Loss')\n",
    "plt.plot(epochs, patience_counter, marker='x', label='Patience Counter')\n",
    "plt.xlabel(\"Epochs\")\n",
    "plt.ylabel(\"Value\")\n",
    "plt.title(\"Validation Loss & Patience Counter per Epoch\")\n",
    "plt.grid(True)\n",
    "plt.legend()\n",
    "plt.show()\n"
   ]
  }
 ],
 "metadata": {
  "kaggle": {
   "accelerator": "nvidiaTeslaT4",
   "dataSources": [
    {
     "datasetId": 550917,
     "sourceId": 1003830,
     "sourceType": "datasetVersion"
    }
   ],
   "dockerImageVersionId": 31089,
   "isGpuEnabled": true,
   "isInternetEnabled": true,
   "language": "python",
   "sourceType": "notebook"
  },
  "kernelspec": {
   "display_name": "Python 3",
   "language": "python",
   "name": "python3"
  },
  "language_info": {
   "codemirror_mode": {
    "name": "ipython",
    "version": 3
   },
   "file_extension": ".py",
   "mimetype": "text/x-python",
   "name": "python",
   "nbconvert_exporter": "python",
   "pygments_lexer": "ipython3",
   "version": "3.11.13"
  }
 },
 "nbformat": 4,
 "nbformat_minor": 4
}
